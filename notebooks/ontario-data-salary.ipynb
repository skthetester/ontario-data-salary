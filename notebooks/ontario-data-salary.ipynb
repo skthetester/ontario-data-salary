{
 "cells": [
  {
   "cell_type": "code",
   "execution_count": 105,
   "metadata": {},
   "outputs": [],
   "source": [
    "import pandas as pd\n",
    "import numpy\n",
    "from pathlib import Path\n",
    "import os\n",
    "import sys"
   ]
  },
  {
   "cell_type": "code",
   "execution_count": 106,
   "metadata": {},
   "outputs": [
    {
     "name": "stdout",
     "output_type": "stream",
     "text": [
      "Data Directory: e:\\Code\\data-analytics\\ontario-data-salary\\data\\01_raw\\\n"
     ]
    }
   ],
   "source": [
    "ROOT_DIR = os.path.dirname(os.path.abspath(''))\n",
    "DATA_DIR = os.path.join(ROOT_DIR, 'data\\\\')\n",
    "print('Data Directory: ' + DATA_DIR + '01_raw\\\\')"
   ]
  },
  {
   "cell_type": "code",
   "execution_count": 107,
   "metadata": {},
   "outputs": [],
   "source": [
    "df_current = pd.read_csv(DATA_DIR + '01_raw\\\\2021.csv')\n",
    "df_previous = pd.read_csv(DATA_DIR + '01_raw\\\\2020.csv')"
   ]
  },
  {
   "cell_type": "code",
   "execution_count": 108,
   "metadata": {},
   "outputs": [],
   "source": [
    "df = pd.merge(df_current, df_previous,\n",
    "    on=['Last Name', 'First Name', 'Sector', 'Employer', 'Job Title'],\n",
    "    suffixes=('_crnt','_prev'))\n",
    "df.columns = [column.replace(' ', '') for column in df.columns]"
   ]
  },
  {
   "cell_type": "code",
   "execution_count": 109,
   "metadata": {},
   "outputs": [],
   "source": [
    "df.insert(12, 'Salary_diff', df.Salary_crnt-df.Salary_prev, True)\n",
    "df.insert(13, 'PrcntSalaryDiff', numpy.round(100 * df.Salary_diff/df.Salary_prev, decimals=2, out=None), True)\n",
    "df.insert(14, 'Benefits_diff', df.Benefits_crnt-df.Benefits_prev, True)\n",
    "df.insert(15, 'PrcntBenefitDiff', numpy.round(100 * df.Benefits_diff/df.Benefits_prev, decimals=2, out=None), True)\n",
    "\n",
    "df.to_csv(DATA_DIR + '03_processed\\\\processed.csv')"
   ]
  }
 ],
 "metadata": {
  "interpreter": {
   "hash": "63fd5069d213b44bf678585dea6b12cceca9941eaf7f819626cde1f2670de90d"
  },
  "kernelspec": {
   "display_name": "Python 3.9.5 64-bit",
   "language": "python",
   "name": "python3"
  },
  "language_info": {
   "codemirror_mode": {
    "name": "ipython",
    "version": 3
   },
   "file_extension": ".py",
   "mimetype": "text/x-python",
   "name": "python",
   "nbconvert_exporter": "python",
   "pygments_lexer": "ipython3",
   "version": "3.9.5"
  },
  "orig_nbformat": 4
 },
 "nbformat": 4,
 "nbformat_minor": 2
}
